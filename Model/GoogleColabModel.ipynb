{
 "cells": [
  {
   "cell_type": "markdown",
   "metadata": {},
   "source": [
    "# Overview\n",
    "\n",
    "This notebook documents the analysis of a variety of reinforcement learning models dedicated to SPDR\n",
    "trading.  These models all use the same algorithms and structure, a Double Deep Q Learning model, but where\n",
    "they differ is in the state space, or environment.  This projects goal is to analyse how increasing the\n",
    "complexity of the model's state space affects the performance of the model. This is an interesting topic\n",
    "because naturally state spaces can be too simple and not be able to learn, but due to the curse of\n",
    "dimensionality, if a state space gets too complicated we expect the model to over fit and perform\n",
    "poorly again.  This notebook stores all the different state spaces we tried and allow the user to select a\n",
    "state space to train themselves. We are letting the use select which one to train because training 6 models\n",
    "all at once will take days."
   ]
  },
  {
   "cell_type": "markdown",
   "source": [
    "# Introduction\n",
    "\n",
    "Advances in machine learning and artificial intelligence (AI) have enabled us to enhance our lives and tackle a variety of\n",
    "complex problems. The financial market is a prime example of a field where researchers are employing these\n",
    "techniques. Since the financial market is very dynamic and ever fluctuating, it presents a unique challenges to consider\n",
    "when developing these systems, but also allows the power of machine learning and AI to shine. Before the\n",
    "development of AI, it was the job of investors and traders to use market data to make optimal\n",
    "decisions that maximize and reduce risk within the context of a trading system. However, due to market\n",
    "complexities, it can be challenging for agents to consider all the relevant information to take an informed\n",
    "position. This is where reinforcement learning (RL), an area of machine learning, comes into play. Through\n",
    "repeated interaction with a market environment, an RL agent can learn optimal trading strategies by taking\n",
    "certain actions, receiving rewards based on these, and adapting future actions based on previous experience.\n",
    "\n",
    "Reinforcement Learning has a rich history of use in the realm of finance. In the 1990s, Moody and Saffell experimented\n",
    "with real-time recurrent learning in order to demonstrate a predictable structure to U.S. stock prices (Moody\n",
    "& Saffell, 1998). They claimed that their agent was able to make a 4000% profit over the simulated period of\n",
    "1970 to 1994, far outperforming the S&P 500 stock index during the same timespan.\n",
    "\n",
    "However, previous studies into applying reinforcement learning into finance have provided insufficient analysis\n",
    "of their chosen model compared to similar ones. For instance, Wu et al. came up with their own technical\n",
    "indicators to add to their reinforcement model  [233]. However, they did not test their model against simpler\n",
    "models, they only tested it against the turtle trading strategy[256], a simple rule based strategy.\n",
    "This is an issue due to the well-studied phenomenon known as the “curse of\n",
    "dimensionality.” Simply put, as one adds more dimensions to a dataset with a fixed number of data points, the\n",
    "density of the data points gets smaller and thus it becomes harder to prevent models from overfitting. Somewhat\n",
    "paradoxically, this could lead to more complex models performing worse than simpler ones. Thus, it is important\n",
    "to test the model on multiple dimensionalities of data, to make sure the data is not too complex that it overfits,\n",
    "or too simple that it can’t learn enough.\n",
    "\n",
    "Since these papers do not provide an in-depth analysis, this notebook analyses how altering\n",
    "the complexity of data available to a trading agent affects its overall performance relative to the market. To\n",
    "do this, this notebook adopts a DDQN algorithm to trade in three environments, each focusing on one of equity indices, foreign\n",
    "exchange (Forex), and market3. Each market environment contains multiple state spaces with varying amounts of data\n",
    "and asset dimensionality, such as 1-Day returns, 5-Day returns, currencies and market3example.\n",
    " The user can then decide which dataset and state\n",
    "space to train, thus seeing how well each model performs, and which amount of dimentionality is the best.\n"
   ],
   "metadata": {
    "collapsed": false,
    "pycharm": {
     "name": "#%% md\n"
    }
   }
  },
  {
   "cell_type": "markdown",
   "source": [
    "## <mark>Set up Environment </mark>\n",
    "1) update tables, then restart the runtime\n",
    "\n",
    "2) upload the IndexFundsData.csv file into colab\n",
    "\n",
    "3) upload the training_env.py file\n"
   ],
   "metadata": {
    "collapsed": false,
    "pycharm": {
     "name": "#%% md\n"
    }
   }
  },
  {
   "cell_type": "code",
   "execution_count": null,
   "outputs": [],
   "source": [
    "! pip install --user --upgrade tables"
   ],
   "metadata": {
    "collapsed": false,
    "pycharm": {
     "name": "#%%\n"
    }
   }
  },
  {
   "cell_type": "markdown",
   "source": [
    "# Data Description\n",
    "\n",
    "There are 3 data sets we are using for these models, one for equity indexes, one for the foreign exchange market,\n",
    "and one for _____.  These data sets were collected from Refinitiv, and they consist of the daily closing prices of\n",
    "each asset we were using.  For the equity indexes we naturally have the daily close prices of SPY, as that is the\n",
    "index we are predicting, we also have the daily close prices of NSDQ.O, DIA, GLD, and USO.  We are using NSDQ.O and\n",
    "DIA as they are similar to the SPY and could reasonably help predict SPY, this data is used in the 4th and 5th complex\n",
    "models.  We are using GLD and USO as they are further removed and actually do more harm than good and make the model\n",
    "preform worse, thus showing the curse of dimensionality.  That data is only used in the 5th model."
   ],
   "metadata": {
    "collapsed": false
   }
  },
  {
   "cell_type": "markdown",
   "source": [
    "### Collect data"
   ],
   "metadata": {
    "collapsed": false,
    "pycharm": {
     "name": "#%% md\n"
    }
   }
  },
  {
   "cell_type": "code",
   "execution_count": null,
   "outputs": [],
   "source": [
    "import warnings\n",
    "warnings.filterwarnings('ignore')\n",
    "\n",
    "from pathlib import Path\n",
    "\n",
    "import pandas as pd\n",
    "\n",
    "pd.set_option('display.expand_frame_repr', False)"
   ],
   "metadata": {
    "collapsed": false,
    "pycharm": {
     "name": "#%%\n"
    }
   }
  },
  {
   "cell_type": "markdown",
   "source": [
    "### Set Data Store path and Get data"
   ],
   "metadata": {
    "collapsed": false
   }
  },
  {
   "cell_type": "code",
   "execution_count": null,
   "outputs": [],
   "source": [
    "DATA_STORE = Path('IndexAssets.h5')\n",
    "\n",
    "df = (pd.read_csv('IndexFundsData.csv'))\n",
    "\n",
    "print(df.head(10))#make sure we got the data"
   ],
   "metadata": {
    "collapsed": false,
    "pycharm": {
     "name": "#%%\n"
    }
   }
  },
  {
   "cell_type": "markdown",
   "source": [
    "### Store data in the h5 file"
   ],
   "metadata": {
    "collapsed": false
   }
  },
  {
   "cell_type": "code",
   "execution_count": null,
   "outputs": [],
   "source": [
    "with pd.HDFStore(DATA_STORE) as store:\n",
    "    store.put('SAP', df)"
   ],
   "metadata": {
    "collapsed": false,
    "pycharm": {
     "name": "#%%\n"
    }
   }
  },
  {
   "cell_type": "markdown",
   "source": [
    "## Model"
   ],
   "metadata": {
    "collapsed": false
   }
  },
  {
   "cell_type": "markdown",
   "metadata": {},
   "source": [
    "### Imports\n",
    "\n",
    "Allow this notebook to access your google drive when prompted, because that's where it stores the data"
   ]
  },
  {
   "cell_type": "code",
   "execution_count": 2,
   "metadata": {},
   "outputs": [],
   "source": [
    "import warnings\n",
    "warnings.filterwarnings('ignore')\n",
    "\n",
    "%matplotlib inline\n",
    "from pathlib import Path\n",
    "from time import time\n",
    "from collections import deque\n",
    "from random import sample\n",
    "from datetime import datetime\n",
    "\n",
    "import numpy as np\n",
    "import pandas as pd\n",
    "\n",
    "import matplotlib.pyplot as plt\n",
    "from matplotlib.ticker import FuncFormatter\n",
    "import seaborn as sns\n",
    "\n",
    "import tensorflow as tf\n",
    "from tensorflow.keras import Sequential\n",
    "from tensorflow.keras.layers import Dense, Dropout\n",
    "from tensorflow.keras.optimizers import Adam\n",
    "from tensorflow.keras.regularizers import l2\n",
    "\n",
    "import gym\n",
    "from gym.envs.registration import register\n",
    "\n",
    "# conect to google drive so we can store data\n",
    "from google.colab import drive\n",
    "drive.mount('/content/gdrive')"
   ]
  },
  {
   "cell_type": "markdown",
   "source": [
    "# Methodology\n",
    "Since we are comparing the effectiveness of data with different dimensionalities we\n",
    "naturally have to train multiple models.  The state variables for each model is shown\n",
    "in the below table.\n",
    "\n",
    "|  Model 0        | Model 1  | Model 2  |  Model 3 |  Model 4 |  Model 5 |\n",
    "|----------------|-------------------------------------|------------------------------------------------|--------------------------------------------------------------------------------------------------------------------------|-----------------------------------------------------------------------------------|---------------------------------------------------------------------------------------|\n",
    "| - 1 Day Return | - 1 Day Return<br>- Previous Action | - 1 Day Return<br>- Previous Action<br>- Price | - 1 Day Return<br>- 2 Day Return<br>- 5 Day Return<br>- 10 Day Return<br>- 21 Day Return<br>- Previous Action<br>- Price | - 1 Day Return<br>- 2 Day Return<br>- 5 Day Return<br>- 10 Day Return<br>- 21 Day Return<br>- Previous Action<br>- Price<br> - 2 Similar Indexes'<br>&nbsp;&nbsp;  - 1 Day Return<br>&nbsp;&nbsp;  - 5 Day Return<br>&nbsp;&nbsp;  - 21 Day Return | - 1 Day Return<br>- 2 Day Return<br>- 5 Day Return<br>- 10 Day Return<br>- 21 Day Return<br>- Previous Action<br>- Price<br> - 2 Similar Indexes'<br>&nbsp;&nbsp;  - 1 Day Return<br>&nbsp;&nbsp;  - 5 Day Return<br>&nbsp;&nbsp;  - 21 Day Return<br> - 2 Unconnected Indexes'<br>&nbsp;&nbsp;  - 1 Day Return<br>&nbsp;&nbsp;  - 5 Day Return<br>&nbsp;&nbsp;  - 21 Day Return |\n",
    "\n",
    "This notebook allows you to specify which state space you want to use, as training all\n",
    "of them at once would take a very long time."
   ],
   "metadata": {
    "collapsed": false,
    "pycharm": {
     "name": "#%% md\n"
    }
   }
  },
  {
   "cell_type": "markdown",
   "metadata": {},
   "source": [
    "### Settings\n",
    "<mark> Select which model you want to run by setting the model variable"
   ]
  },
  {
   "cell_type": "code",
   "execution_count": 4,
   "metadata": {
    "ExecuteTime": {
     "end_time": "2021-02-25T06:20:29.638316Z",
     "start_time": "2021-02-25T06:20:29.636097Z"
    }
   },
   "outputs": [
    {
     "name": "stdout",
     "output_type": "stream",
     "text": [
      "Using CPU\n"
     ]
    }
   ],
   "source": [
    "#Which model to run(0 - 6, 0 being the simplest, 6 being the most complex)\n",
    "model = 0\n",
    "whenSave = 10\n",
    "stopAfterOne = True\n",
    "printStep = True\n",
    "trading_cost_bps = 0\n",
    "time_cost_bps = 0\n",
    "batch_size = 256\n",
    "max_episodes = 20\n",
    "epsilon_decay_steps = max_episodes/2\n",
    "\n",
    "#Random setup stuff\n",
    "np.random.seed(42)\n",
    "tf.random.set_seed(42)\n",
    "sns.set_style('whitegrid')\n",
    "\n",
    "#Use a GPU is we have one\n",
    "gpu_devices = tf.config.experimental.list_physical_devices('GPU')\n",
    "if gpu_devices:\n",
    "    print('Using GPU')\n",
    "    tf.config.experimental.set_memory_growth(gpu_devices[0], True)\n",
    "else:\n",
    "    print('Using CPU')\n",
    "\n",
    "#Set up results directory to google drive\n",
    "results_path = \"/content/gdrive/My Drive/\"\n",
    "\n",
    "\n",
    "### Helper functions\n",
    "def format_time(t):\n",
    "    m_, s = divmod(t, 60)\n",
    "    h, m = divmod(m_, 60)\n",
    "    return '{:02.0f}:{:02.0f}:{:02.0f}'.format(h, m, s)"
   ]
  },
  {
   "cell_type": "markdown",
   "source": [
    "## Simulation Enviornment\n",
    "\n",
    "Our environment is a farily simple market trading simulation.  The agent has a choice of 3 actions where\n",
    "\n",
    "A=E{0,1,2}, Sell Short, Flat, Buy Long\n",
    "\n",
    "0 is when the agent Shorts the index fund equal to the amount of capital it has. 1 is where it transfers all\n",
    "it's capital into cash, and closes all short positions. 2 is where it buys as much of the given fund as possible\n",
    "with the capital it has.  This is a very simplistic model because it can not invest only a portion of it's\n",
    "capital, it is forced to invest all or none of it.\n",
    "\n",
    "Each time step the simulation updates the portfolios net asset value(NAV), and performs the agents requested\n",
    "action. The NAV is calculated with the following formula:\n",
    "\n",
    "new_NAV = old_NAV*(1+reward)\n",
    "\n",
    "The reward function is simply the percent change of the NAV.  This reward function is also used to reward\n",
    "the reinforcement learning agent.  To calculate the reward function the simulation uses the following\n",
    "equations:\n",
    "\n",
    "reward = ((Yesterday’s_Action-1) * 1_Day_Return) – Trading_Costs – Daily_Cost\n",
    "\n",
    "Trading_Costs = 0.001 * |Today’s_Action - Yesterday’s_Action|\n",
    "\n",
    "Daily_Cost = .0001\n",
    "\n",
    "Yesterday's action is subtracted by 1 so that it translates the action space to -1, 0, and 1.  That way\n",
    "if we held cash(now equal to 0) the 1_day_return won't affect the NAV.  If we bought the stock(now equal\n",
    "to 1) the percent change of NAV will be directly correlated to the 1_day_return, and if we shorted the\n",
    "percent change would be inversely correlated to 1_day_return.\n",
    "\n"
   ],
   "metadata": {
    "collapsed": false,
    "pycharm": {
     "name": "#%% md\n"
    }
   }
  },
  {
   "cell_type": "markdown",
   "metadata": {},
   "source": [
    "### Set up Gym Environment"
   ]
  },
  {
   "cell_type": "code",
   "execution_count": 5,
   "metadata": {
    "ExecuteTime": {
     "end_time": "2021-02-25T06:20:29.688161Z",
     "start_time": "2021-02-25T06:20:29.681742Z"
    }
   },
   "outputs": [
    {
     "data": {
      "text/plain": "'Trading costs: 0.10% | Time costs: 0.01%'"
     },
     "execution_count": 5,
     "metadata": {},
     "output_type": "execute_result"
    }
   ],
   "source": [
    "#Simulation variables\n",
    "trading_days = 252\n",
    "#trading_cost_bps = 1e-3\n",
    "#time_cost_bps = 1e-4\n",
    "\n",
    "register(\n",
    "    id='trading-v0',\n",
    "    entry_point='trading_env:TradingEnvironment',\n",
    "    max_episode_steps=trading_days\n",
    ")\n",
    "\n",
    "f'Trading costs: {trading_cost_bps:.2%} | Time costs: {time_cost_bps:.2%}'\n",
    "\n",
    "#Initalize environment\n",
    "trading_environment = gym.make('trading-v0', trading_days = trading_days, model = model)\n",
    "trading_environment.env.trading_days = trading_days\n",
    "trading_environment.env.data_source.trading_days = trading_days\n",
    "trading_environment.env.simulator.steps = trading_days\n",
    "\n",
    "trading_environment.env.trading_cost_bps = trading_cost_bps\n",
    "trading_environment.env.simulator.trading_cost_bps = trading_cost_bps\n",
    "trading_environment.env.time_cost_bps = time_cost_bps\n",
    "trading_environment.env.simulator.time_cost_bps = time_cost_bps\n",
    "trading_environment.env.simulator.reinitialize()\n",
    "trading_environment.seed(42)\n",
    "\n",
    "# Get Environment Params\n",
    "state_dim = len(trading_environment.reset())\n",
    "num_actions = trading_environment.action_space.n\n",
    "max_episode_steps = trading_environment.spec.max_episode_steps\n",
    "\n"
   ]
  },
  {
   "cell_type": "code",
   "execution_count": 7,
   "outputs": [],
   "source": [
    "## Define Trading Agent(he Neural Network)\n",
    "class DDQNAgent:\n",
    "    def __init__(self, state_dim,\n",
    "                 num_actions,\n",
    "                 learning_rate,\n",
    "                 gamma,\n",
    "                 epsilon_start,\n",
    "                 epsilon_end,\n",
    "                 epsilon_decay_steps,\n",
    "                 epsilon_exponential_decay,\n",
    "                 replay_capacity,\n",
    "                 architecture,\n",
    "                 l2_reg,\n",
    "                 tau,\n",
    "                 batch_size):\n",
    "\n",
    "        self.state_dim = state_dim\n",
    "        self.num_actions = num_actions\n",
    "        self.experience = deque([], maxlen=replay_capacity)\n",
    "        self.learning_rate = learning_rate\n",
    "        self.gamma = gamma\n",
    "        self.architecture = architecture\n",
    "        self.l2_reg = l2_reg\n",
    "\n",
    "        self.online_network = self.build_model()\n",
    "        self.target_network = self.build_model(trainable=False)\n",
    "        self.update_target()\n",
    "\n",
    "        self.epsilon = epsilon_start\n",
    "        self.epsilon_decay_steps = epsilon_decay_steps\n",
    "        self.epsilon_decay = (epsilon_start - epsilon_end) / epsilon_decay_steps\n",
    "        self.epsilon_exponential_decay = epsilon_exponential_decay\n",
    "        self.epsilon_history = []\n",
    "\n",
    "        self.total_steps = self.train_steps = 0\n",
    "        self.episodes = self.episode_length = self.train_episodes = 0\n",
    "        self.steps_per_episode = []\n",
    "        self.episode_reward = 0\n",
    "        self.rewards_history = []\n",
    "\n",
    "        self.batch_size = batch_size\n",
    "        self.tau = tau\n",
    "        self.losses = []\n",
    "        self.idx = tf.range(batch_size)\n",
    "        self.train = True\n",
    "\n",
    "    def build_model(self, trainable=True):\n",
    "        layers = []\n",
    "        n = len(self.architecture)\n",
    "        for i, units in enumerate(self.architecture, 1):\n",
    "            layers.append(Dense(units=units,\n",
    "                                input_dim=self.state_dim if i == 1 else None,\n",
    "                                activation='relu',\n",
    "                                kernel_regularizer=l2(self.l2_reg),\n",
    "                                name=f'Dense_{i}',\n",
    "                                trainable=trainable))\n",
    "        layers.append(Dropout(.1))\n",
    "        layers.append(Dense(units=self.num_actions,\n",
    "                            trainable=trainable,\n",
    "                            name='Output'))\n",
    "        model = Sequential(layers)\n",
    "        model.compile(loss='mean_squared_error',\n",
    "                      optimizer=Adam(lr=self.learning_rate))\n",
    "        return model\n",
    "\n",
    "    def update_target(self):\n",
    "        self.target_network.set_weights(self.online_network.get_weights())\n",
    "\n",
    "    def epsilon_greedy_policy(self, state):\n",
    "        self.total_steps += 1\n",
    "        if np.random.rand() <= self.epsilon:\n",
    "            return np.random.choice(self.num_actions)\n",
    "        q = self.online_network.predict(state)\n",
    "        return np.argmax(q, axis=1).squeeze()\n",
    "\n",
    "    def memorize_transition(self, s, a, r, s_prime, not_done):\n",
    "        if not_done:\n",
    "            self.episode_reward += r\n",
    "            self.episode_length += 1\n",
    "        else:\n",
    "            if self.train:\n",
    "                if self.episodes < self.epsilon_decay_steps:\n",
    "                    self.epsilon -= self.epsilon_decay\n",
    "                else:\n",
    "                    self.epsilon *= self.epsilon_exponential_decay\n",
    "\n",
    "            self.episodes += 1\n",
    "            self.rewards_history.append(self.episode_reward)\n",
    "            self.steps_per_episode.append(self.episode_length)\n",
    "            self.episode_reward, self.episode_length = 0, 0\n",
    "\n",
    "        self.experience.append((s, a, r, s_prime, not_done))\n",
    "\n",
    "    def experience_replay(self):\n",
    "        if self.batch_size > len(self.experience):\n",
    "            return\n",
    "        minibatch = map(np.array, zip(*sample(self.experience, self.batch_size)))\n",
    "        states, actions, rewards, next_states, not_done = minibatch\n",
    "\n",
    "        next_q_values = self.online_network.predict_on_batch(next_states)\n",
    "        best_actions = tf.argmax(next_q_values, axis=1)\n",
    "\n",
    "        next_q_values_target = self.target_network.predict_on_batch(next_states)\n",
    "        target_q_values = tf.gather_nd(next_q_values_target,\n",
    "                                       tf.stack((self.idx, tf.cast(best_actions, tf.int32)), axis=1))\n",
    "\n",
    "        targets = rewards + not_done * self.gamma * target_q_values\n",
    "\n",
    "        q_values = self.online_network.predict_on_batch(states)\n",
    "        q_values[[self.idx, actions]] = targets\n",
    "\n",
    "        loss = self.online_network.train_on_batch(x=states, y=q_values)\n",
    "        self.losses.append(loss)\n",
    "\n",
    "        if self.total_steps % self.tau == 0:\n",
    "            self.update_target()"
   ],
   "metadata": {
    "collapsed": false,
    "pycharm": {
     "name": "#%%\n"
    }
   }
  },
  {
   "cell_type": "markdown",
   "metadata": {},
   "source": [
    "### Define hyperparameters"
   ]
  },
  {
   "cell_type": "code",
   "execution_count": 8,
   "metadata": {
    "ExecuteTime": {
     "end_time": "2021-02-25T06:20:32.575368Z",
     "start_time": "2021-02-25T06:20:32.565067Z"
    }
   },
   "outputs": [],
   "source": [
    "#RL hypers\n",
    "gamma = .99,  # discount factor\n",
    "tau = 100  # target network update frequency\n",
    "\n",
    "### NN Architecture\n",
    "\n",
    "architecture = (256, 256)  # units per layer\n",
    "learning_rate = 0.0001  # learning rate\n",
    "l2_reg = 1e-6  # L2 regularization\n",
    "\n",
    "### Experience Replay\n",
    "\n",
    "replay_capacity = int(1e6)\n",
    "#batch_size = 4096\n",
    "\n",
    "### epsilon-greedy Policy\n",
    "\n",
    "epsilon_start = 1.0 # starting point for epsilon\n",
    "epsilon_end = .01 # ending point for epsilon\n",
    "#epsilon_decay_steps = 250 # the number of steps to get from start to end\n",
    "epsilon_exponential_decay = .99 # after 250 step(epsilon_decay_steps) epsilon = epsilon*epsilon_exponential_decay"
   ]
  },
  {
   "cell_type": "markdown",
   "metadata": {},
   "source": [
    "## Create DDQN Agent"
   ]
  },
  {
   "cell_type": "code",
   "execution_count": 9,
   "metadata": {
    "ExecuteTime": {
     "end_time": "2021-02-25T06:20:32.613239Z",
     "start_time": "2021-02-25T06:20:32.604766Z"
    }
   },
   "outputs": [
    {
     "name": "stdout",
     "output_type": "stream",
     "text": [
      "Model: \"sequential\"\n",
      "_________________________________________________________________\n",
      " Layer (type)                Output Shape              Param #   \n",
      "=================================================================\n",
      " Dense_1 (Dense)             (None, 256)               512       \n",
      "                                                                 \n",
      " Dense_2 (Dense)             (None, 256)               65792     \n",
      "                                                                 \n",
      " dropout (Dropout)           (None, 256)               0         \n",
      "                                                                 \n",
      " Output (Dense)              (None, 3)                 771       \n",
      "                                                                 \n",
      "=================================================================\n",
      "Total params: 67,075\n",
      "Trainable params: 67,075\n",
      "Non-trainable params: 0\n",
      "_________________________________________________________________\n"
     ]
    }
   ],
   "source": [
    "#clear out karas\n",
    "tf.keras.backend.clear_session()\n",
    "\n",
    "#instantiate the ddqn model\n",
    "ddqn = DDQNAgent(state_dim=state_dim,\n",
    "                 num_actions=num_actions,\n",
    "                 learning_rate=learning_rate,\n",
    "                 gamma=gamma,\n",
    "                 epsilon_start=epsilon_start,\n",
    "                 epsilon_end=epsilon_end,\n",
    "                 epsilon_decay_steps=epsilon_decay_steps,\n",
    "                 epsilon_exponential_decay=epsilon_exponential_decay,\n",
    "                 replay_capacity=replay_capacity,\n",
    "                 architecture=architecture,\n",
    "                 l2_reg=l2_reg,\n",
    "                 tau=tau,\n",
    "                 batch_size=batch_size)\n",
    "\n",
    "ddqn.online_network.summary()\n",
    "\n",
    "### Set Experiment parameters\n",
    "\n",
    "total_steps = 0\n",
    "#max_episodes = 1000\n",
    "\n",
    "### Initialize Experiment variables\n",
    "\n",
    "episode_time, navs, market_navs, diffs, episode_eps, holds, shorts, buys = [], [], [], [], [], [], [], []\n",
    "test_navs, test_market_navs, test_diffs, test_holds, test_shorts, test_buys = [], [], [], [], [], []"
   ]
  },
  {
   "cell_type": "markdown",
   "metadata": {},
   "source": [
    "### Visualization"
   ]
  },
  {
   "cell_type": "code",
   "execution_count": 10,
   "metadata": {
    "ExecuteTime": {
     "end_time": "2021-02-25T06:20:32.752721Z",
     "start_time": "2021-02-25T06:20:32.742471Z"
    }
   },
   "outputs": [],
   "source": [
    "#prints the results from the training and testing runs\n",
    "def track_results(episode, nav_ma_100, nav_ma_10,\n",
    "                  market_nav_100, market_nav_10,\n",
    "                  win_ratio, total, epsilon, pretext=\"Training Results:\"):\n",
    "    time_ma = np.mean([episode_time[-100:]])\n",
    "    T = np.sum(episode_time)\n",
    "    \n",
    "    template = '{:>4d} | {} | Agent: {:>6.1%} ({:>6.1%}) | '\n",
    "    template += 'Market: {:>6.1%} ({:>6.1%}) | '\n",
    "    template += 'Wins: {:>5.1%} | eps: {:>6.3f}'\n",
    "    print(pretext + template.format(episode, format_time(total),\n",
    "                          nav_ma_100-1, nav_ma_10-1, \n",
    "                          market_nav_100-1, market_nav_10-1, \n",
    "                          win_ratio, epsilon))\n",
    "\n",
    "#Runs a year long simulation on the testing data\n",
    "def test_data_simulation():\n",
    "    #reset the environment\n",
    "    testthis_state = trading_environment.reset(training=False)\n",
    "    num_holds = 0\n",
    "    num_buys = 0\n",
    "    num_shorts = 0\n",
    "\n",
    "    #loop for a year\n",
    "    for test_episode_step in range(max_episode_steps):\n",
    "        testaction = ddqn.epsilon_greedy_policy(testthis_state.reshape(-1, state_dim))\n",
    "        testnext_state, testreward, testdone, _ = trading_environment.step(testaction)\n",
    "\n",
    "        if testaction == 0:\n",
    "            num_shorts += 1\n",
    "        elif testaction == 1:\n",
    "            num_holds += 1\n",
    "        else:\n",
    "            num_buys += 1\n",
    "\n",
    "        if testdone:\n",
    "            break\n",
    "        testthis_state = testnext_state\n",
    "\n",
    "\n",
    "\n",
    "\n",
    "    test_holds.append(num_holds)\n",
    "    test_shorts.append(num_shorts)\n",
    "    test_buys.append(num_buys)\n",
    "    # get DataFrame with seqence of actions, returns and nav values\n",
    "    test_result = trading_environment.env.simulator.result()\n",
    "\n",
    "    # get results of last step\n",
    "    test_final = test_result.iloc[-1]\n",
    "\n",
    "\n",
    "    # get nav\n",
    "    test_nav = test_final.nav\n",
    "    test_navs.append(test_nav)\n",
    "\n",
    "    # market nav\n",
    "    test_market_nav = test_final.market_nav\n",
    "    test_market_navs.append(test_market_nav)\n",
    "\n",
    "    # track difference between agent an market NAV results\n",
    "    test_diff = test_nav - test_market_nav\n",
    "    test_diffs.append(test_diff)\n",
    "\n",
    "    #Store the results\n",
    "    track_results(episode,\n",
    "                  # show mov. average results for 100 (10) periods\n",
    "                  np.mean(test_navs[-100:]),\n",
    "                  np.mean(test_navs[-10:]),\n",
    "                  np.mean(test_market_navs[-100:]),\n",
    "                  np.mean(test_market_navs[-10:]),\n",
    "                  # share of agent wins, defined as higher ending nav\n",
    "                  np.sum([s > 0 for s in test_diffs[-100:]])/min(len(test_diffs), 100),\n",
    "                  time() - start, -1, pretext=\"Testing Results:\")\n",
    "\n",
    "\n",
    "def saveData():\n",
    "    print(len(diffs))\n",
    "\n",
    "    exampleState = trading_environment.reset()\n",
    "    numStateVars = len(exampleState)\n",
    "\n",
    "    results = pd.DataFrame({'NumStateVars': numStateVars,\n",
    "                            'Episode': list(range(1, episode+1)),\n",
    "                            'TrainAgent': navs,\n",
    "                            'TrainMarket': market_navs,\n",
    "                            'TrainDifference': diffs,\n",
    "                            'Holds': holds,\n",
    "                            'Buys': buys,\n",
    "                            'Shorts': shorts}).set_index('Episode')\n",
    "\n",
    "    results['Strategy Wins (%)'] = (results.TrainDifference > 0).rolling(100).sum()\n",
    "\n",
    "\n",
    "    test_results = pd.DataFrame({'NumStateVars': numStateVars,\n",
    "                            'EpisodeDiv10': list(range(1, len(test_navs)+1)),\n",
    "                            'TestAgent': test_navs,\n",
    "                            'TestMarket': test_market_navs,\n",
    "                            'TestDifference': test_diffs,\n",
    "                            'Holds': test_holds,\n",
    "                            'Buys': test_buys,\n",
    "                            'Shorts': test_shorts}).set_index('EpisodeDiv10')\n",
    "\n",
    "\n",
    "    test_results['Strategy Wins (%)'] = (test_results.TestDifference > 0).rolling(100).sum()\n",
    "\n",
    "\n",
    "    #Get the date and time so we can keep track of the data files\n",
    "    currentTime = datetime.now()\n",
    "    training_file_name = currentTime.strftime(\"%Y-%m-%d-%H%M-\") + 'TrainResults.csv'\n",
    "    testing_file_name = currentTime.strftime(\"%Y-%m-%d-%H%M-\") + 'TestResults.csv'\n",
    "\n",
    "    #store the results in a csv\n",
    "    results.to_csv(results_path + training_file_name)\n",
    "    test_results.to_csv(results_path + testing_file_name)"
   ]
  },
  {
   "cell_type": "markdown",
   "metadata": {},
   "source": [
    "### Train Agent\n"
   ]
  },
  {
   "cell_type": "code",
   "execution_count": 11,
   "metadata": {
    "ExecuteTime": {
     "start_time": "2021-02-25T06:20:28.016Z"
    }
   },
   "outputs": [
    {
     "name": "stdout",
     "output_type": "stream",
     "text": [
      "Testing Results:   1 | 00:00:00 | Agent:  11.5% ( 11.5%) | Market:   8.7% (  8.7%) | Wins: 100.0% | eps: -1.000\n",
      "Training Results:   1 | 00:00:00 | Agent: -24.0% (-24.0%) | Market: -16.9% (-16.9%) | Wins:  0.0% | eps:  0.996\n",
      "Testing Results:   2 | 00:00:02 | Agent:   5.3% (  5.3%) | Market:   5.1% (  5.1%) | Wins: 50.0% | eps: -1.000\n",
      "Training Results:   2 | 00:00:02 | Agent: -22.7% (-22.7%) | Market: -14.3% (-14.3%) | Wins:  0.0% | eps:  0.992\n",
      "Testing Results:   3 | 00:00:02 | Agent:   5.5% (  5.5%) | Market:   2.9% (  2.9%) | Wins: 66.7% | eps: -1.000\n",
      "Training Results:   3 | 00:00:02 | Agent: -21.8% (-21.8%) | Market: -11.6% (-11.6%) | Wins:  0.0% | eps:  0.988\n",
      "Testing Results:   4 | 00:00:03 | Agent:  -3.5% ( -3.5%) | Market:   1.5% (  1.5%) | Wins: 50.0% | eps: -1.000\n",
      "Training Results:   4 | 00:00:03 | Agent: -21.9% (-21.9%) | Market:  -6.6% ( -6.6%) | Wins:  0.0% | eps:  0.984\n",
      "Testing Results:   5 | 00:00:03 | Agent:  -8.4% ( -8.4%) | Market:   0.3% (  0.3%) | Wins: 40.0% | eps: -1.000\n",
      "Training Results:   5 | 00:00:03 | Agent: -22.3% (-22.3%) | Market:  -7.8% ( -7.8%) | Wins:  0.0% | eps:  0.980\n",
      "Testing Results:   6 | 00:00:03 | Agent: -10.9% (-10.9%) | Market:   1.8% (  1.8%) | Wins: 33.3% | eps: -1.000\n",
      "Training Results:   6 | 00:00:03 | Agent: -21.7% (-21.7%) | Market:  -9.4% ( -9.4%) | Wins:  0.0% | eps:  0.976\n",
      "Testing Results:   7 | 00:00:03 | Agent: -14.0% (-14.0%) | Market:   1.6% (  1.6%) | Wins: 28.6% | eps: -1.000\n",
      "Training Results:   7 | 00:00:04 | Agent: -21.9% (-21.9%) | Market:  -8.0% ( -8.0%) | Wins:  0.0% | eps:  0.972\n",
      "Testing Results:   8 | 00:00:04 | Agent: -15.4% (-15.4%) | Market:   0.1% (  0.1%) | Wins: 25.0% | eps: -1.000\n",
      "Training Results:   8 | 00:00:05 | Agent: -20.9% (-20.9%) | Market:  -8.0% ( -8.0%) | Wins:  0.0% | eps:  0.968\n",
      "Testing Results:   9 | 00:00:05 | Agent: -16.4% (-16.4%) | Market:   1.0% (  1.0%) | Wins: 22.2% | eps: -1.000\n",
      "Training Results:   9 | 00:00:05 | Agent: -22.3% (-22.3%) | Market:  -8.5% ( -8.5%) | Wins:  0.0% | eps:  0.964\n",
      "Testing Results:  10 | 00:00:05 | Agent: -15.5% (-15.5%) | Market:   1.5% (  1.5%) | Wins: 20.0% | eps: -1.000\n",
      "Training Results:  10 | 00:00:06 | Agent: -23.0% (-23.0%) | Market:  -9.2% ( -9.2%) | Wins:  0.0% | eps:  0.960\n",
      "Testing Results:  11 | 00:00:07 | Agent: -17.0% (-19.8%) | Market:   1.1% (  0.4%) | Wins: 18.2% | eps: -1.000\n",
      "Training Results:  11 | 00:00:07 | Agent: -25.3% (-25.4%) | Market:  -8.2% ( -7.3%) | Wins:  0.0% | eps:  0.956\n",
      "Testing Results:  12 | 00:00:07 | Agent: -17.0% (-21.5%) | Market:   1.6% (  0.9%) | Wins: 16.7% | eps: -1.000\n",
      "Training Results:  12 | 00:00:08 | Agent: -25.7% (-26.3%) | Market:  -9.2% ( -8.2%) | Wins:  0.0% | eps:  0.952\n",
      "Testing Results:  13 | 00:00:08 | Agent: -17.9% (-24.9%) | Market:   1.6% (  1.2%) | Wins: 15.4% | eps: -1.000\n",
      "Training Results:  13 | 00:00:09 | Agent: -27.2% (-28.8%) | Market:  -7.9% ( -6.8%) | Wins:  0.0% | eps:  0.949\n",
      "Testing Results:  14 | 00:00:09 | Agent: -17.6% (-23.3%) | Market:   1.6% (  1.7%) | Wins: 14.3% | eps: -1.000\n",
      "Training Results:  14 | 00:00:10 | Agent: -26.5% (-28.3%) | Market:  -8.4% ( -9.2%) | Wins:  0.0% | eps:  0.945\n",
      "Testing Results:  15 | 00:00:11 | Agent: -16.8% (-21.0%) | Market:   2.1% (  2.9%) | Wins: 13.3% | eps: -1.000\n",
      "Training Results:  15 | 00:00:11 | Agent: -25.5% (-27.2%) | Market:  -9.3% (-10.1%) | Wins:  6.7% | eps:  0.941\n",
      "Testing Results:  16 | 00:00:12 | Agent: -16.5% (-19.8%) | Market:   2.0% (  2.1%) | Wins: 12.5% | eps: -1.000\n",
      "Training Results:  16 | 00:00:12 | Agent: -24.9% (-26.9%) | Market:  -8.8% ( -8.4%) | Wins:  6.2% | eps:  0.937\n",
      "Testing Results:  17 | 00:00:13 | Agent: -16.7% (-18.6%) | Market:   1.6% (  1.6%) | Wins: 11.8% | eps: -1.000\n"
     ]
    },
    {
     "ename": "KeyboardInterrupt",
     "evalue": "",
     "output_type": "error",
     "traceback": [
      "\u001B[1;31m---------------------------------------------------------------------------\u001B[0m",
      "\u001B[1;31mKeyboardInterrupt\u001B[0m                         Traceback (most recent call last)",
      "\u001B[1;32m~\\AppData\\Local\\Temp/ipykernel_6084/392907737.py\u001B[0m in \u001B[0;36m<module>\u001B[1;34m\u001B[0m\n\u001B[0;32m     14\u001B[0m                                  0.0 if done else 1.0)\n\u001B[0;32m     15\u001B[0m         \u001B[1;32mif\u001B[0m \u001B[0mddqn\u001B[0m\u001B[1;33m.\u001B[0m\u001B[0mtrain\u001B[0m\u001B[1;33m:\u001B[0m\u001B[1;33m\u001B[0m\u001B[1;33m\u001B[0m\u001B[0m\n\u001B[1;32m---> 16\u001B[1;33m             \u001B[0mddqn\u001B[0m\u001B[1;33m.\u001B[0m\u001B[0mexperience_replay\u001B[0m\u001B[1;33m(\u001B[0m\u001B[1;33m)\u001B[0m\u001B[1;33m\u001B[0m\u001B[1;33m\u001B[0m\u001B[0m\n\u001B[0m\u001B[0;32m     17\u001B[0m         \u001B[1;32mif\u001B[0m \u001B[0mdone\u001B[0m\u001B[1;33m:\u001B[0m\u001B[1;33m\u001B[0m\u001B[1;33m\u001B[0m\u001B[0m\n\u001B[0;32m     18\u001B[0m             \u001B[1;32mbreak\u001B[0m\u001B[1;33m\u001B[0m\u001B[1;33m\u001B[0m\u001B[0m\n",
      "\u001B[1;31mKeyboardInterrupt\u001B[0m: "
     ]
    }
   ],
   "source": [
    "start = time()\n",
    "results = []\n",
    "print(\"-----------------------------------------------\")\n",
    "print(\"model: \", model)\n",
    "print(\"whenSave: \", whenSave)\n",
    "print(\"trading_cost_bps: \", trading_cost_bps)\n",
    "print(\"time_cost_bps: \", time_cost_bps)\n",
    "print(\"batch_size: \", batch_size)\n",
    "print(\"max_episodes: \", max_episodes)\n",
    "print(\"epsilon_decay_steps: \", epsilon_decay_steps)\n",
    "print(\"-----------------------------------------------\")\n",
    "for episode in range(1, max_episodes + 1):\n",
    "    this_state = trading_environment.reset()\n",
    "    numBuy = 0\n",
    "    numShort = 0\n",
    "    numHold = 0\n",
    "    print(\"Episode: \", episode)\n",
    "    for episode_step in range(max_episode_steps):\n",
    "        action = ddqn.epsilon_greedy_policy(this_state.reshape(-1, state_dim))\n",
    "\n",
    "        if action == 0:\n",
    "            numShort += 1\n",
    "        elif action == 1:\n",
    "            numHold += 1\n",
    "        else:\n",
    "            numBuy += 1\n",
    "\n",
    "\n",
    "\n",
    "\n",
    "        next_state, reward, done, _ = trading_environment.step(action)\n",
    "\n",
    "        ddqn.memorize_transition(this_state, \n",
    "                                 action, \n",
    "                                 reward, \n",
    "                                 next_state, \n",
    "                                 0.0 if done else 1.0)\n",
    "        if printStep:\n",
    "            print(\"Step: \", episode_step)\n",
    "            print(\"ts: \", this_state)\n",
    "            print(\"ac: \", action)\n",
    "            print(\"re: \", reward)\n",
    "            print(\"ns: \", next_state)\n",
    "\n",
    "        if ddqn.train:\n",
    "            ddqn.experience_replay()\n",
    "        if done:\n",
    "            break\n",
    "        this_state = next_state\n",
    "\n",
    "    if stopAfterOne:\n",
    "        break\n",
    "\n",
    "    # get DataFrame with seqence of actions, returns and nav values\n",
    "    result = trading_environment.env.simulator.result()\n",
    "    \n",
    "    # get results of last step\n",
    "    final = result.iloc[-1]\n",
    "\n",
    "    # get nav\n",
    "    nav = final.nav\n",
    "    navs.append(nav)\n",
    "\n",
    "    # market nav \n",
    "    market_nav = final.market_nav\n",
    "    market_navs.append(market_nav)\n",
    "\n",
    "    #num holds buys and sells\n",
    "    holds.append(numHold)\n",
    "    buys.append(numBuy)\n",
    "    shorts.append(numShort)\n",
    "\n",
    "    # track difference between agent an market NAV results\n",
    "    diff = nav - market_nav\n",
    "    diffs.append(diff)\n",
    "    if episode % 10 == 0:\n",
    "        track_results(episode, \n",
    "                      # show mov. average results for 100 (10) periods\n",
    "                      np.mean(navs[-100:]), \n",
    "                      np.mean(navs[-10:]), \n",
    "                      np.mean(market_navs[-100:]), \n",
    "                      np.mean(market_navs[-10:]), \n",
    "                      # share of agent wins, defined as higher ending nav\n",
    "                      np.sum([s > 0 for s in diffs[-100:]])/min(len(diffs), 100), \n",
    "                      time() - start, ddqn.epsilon)\n",
    "        test_data_simulation()\n",
    "    if episode % whenSave == 0:\n",
    "        saveData()\n",
    "    if len(diffs) > 25 and all([r > 0 for r in diffs[-25:]]):\n",
    "        print(result.tail())\n",
    "        break\n",
    "\n",
    "if not stopAfterOne:\n",
    "    print(\"final\")\n",
    "    track_results(episode,\n",
    "                  # show mov. average results for 100 (10) periods\n",
    "                  np.mean(navs[-100:]),\n",
    "                  np.mean(navs[-10:]),\n",
    "                  np.mean(market_navs[-100:]),\n",
    "                  np.mean(market_navs[-10:]),\n",
    "                  # share of agent wins, defined as higher ending nav\n",
    "                  np.sum([s > 0 for s in diffs[-100:]])/min(len(diffs), 100),\n",
    "                  time() - start, ddqn.epsilon)\n",
    "    test_data_simulation()\n",
    "    trading_environment.close()"
   ]
  },
  {
   "cell_type": "markdown",
   "metadata": {},
   "source": [
    "## Store Results"
   ]
  },
  {
   "cell_type": "code",
   "execution_count": null,
   "outputs": [],
   "source": [
    "saveData()"
   ],
   "metadata": {
    "collapsed": false,
    "pycharm": {
     "name": "#%%\n"
    }
   }
  },
  {
   "cell_type": "markdown",
   "metadata": {
    "pycharm": {
     "name": "#%% md\n"
    }
   },
   "source": [
    "## Evaluate Results"
   ]
  },
  {
   "cell_type": "code",
   "execution_count": null,
   "outputs": [],
   "source": [
    "#plot histogram\n",
    "\n",
    "with sns.axes_style('white'):\n",
    "    sns.distplot(results.TrainDifference)\n",
    "    sns.despine()"
   ],
   "metadata": {
    "collapsed": false,
    "pycharm": {
     "name": "#%%\n"
    }
   }
  },
  {
   "cell_type": "code",
   "execution_count": 17,
   "metadata": {
    "ExecuteTime": {
     "start_time": "2021-02-25T06:20:28.031Z"
    },
    "pycharm": {
     "name": "#%%\n"
    }
   },
   "outputs": [
    {
     "data": {
      "text/plain": "<Figure size 1008x288 with 2 Axes>",
      "image/png": "[encoded data removed]"
     },
     "metadata": {},
     "output_type": "display_data"
    }
   ],
   "source": [
    "fig, axes = plt.subplots(ncols=2, figsize=(14, 4), sharey=True)\n",
    "\n",
    "df1 = (results[['TrainAgent', 'TrainMarket']]\n",
    "       .sub(1)\n",
    "       .rolling(100)\n",
    "       .mean())\n",
    "df1.plot(ax=axes[0],\n",
    "         title='Annual Returns (Moving Average)',\n",
    "         lw=1)\n",
    "\n",
    "df2 = results['Strategy Wins (%)'].div(100).rolling(50).mean()\n",
    "df2.plot(ax=axes[1],\n",
    "         title='Agent Outperformance (%, Moving Average)')\n",
    "\n",
    "for ax in axes:\n",
    "    ax.yaxis.set_major_formatter(\n",
    "        FuncFormatter(lambda y, _: '{:.0%}'.format(y)))\n",
    "    ax.xaxis.set_major_formatter(\n",
    "        FuncFormatter(lambda x, _: '{:,.0f}'.format(x)))\n",
    "axes[1].axhline(.5, ls='--', c='k', lw=1)\n",
    "\n",
    "sns.despine()\n",
    "fig.tight_layout()\n",
    "fig.savefig(results_path / 'performance', dpi=300)\n",
    "\n",
    "\n"
   ]
  }
 ],
 "metadata": {
  "kernelspec": {
   "display_name": "Python 3",
   "language": "python",
   "name": "python3"
  },
  "language_info": {
   "codemirror_mode": {
    "name": "ipython",
    "version": 3
   },
   "file_extension": ".py",
   "mimetype": "text/x-python",
   "name": "python",
   "nbconvert_exporter": "python",
   "pygments_lexer": "ipython3",
   "version": "3.8.8"
  },
  "toc": {
   "base_numbering": 1,
   "nav_menu": {},
   "number_sections": true,
   "sideBar": true,
   "skip_h1_title": true,
   "title_cell": "Table of Contents",
   "title_sidebar": "Contents",
   "toc_cell": false,
   "toc_position": {
    "height": "calc(100% - 180px)",
    "left": "10px",
    "top": "150px",
    "width": "230.906px"
   },
   "toc_section_display": true,
   "toc_window_display": true
  }
 },
 "nbformat": 4,
 "nbformat_minor": 4
}