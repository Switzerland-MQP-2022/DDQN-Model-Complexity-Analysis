{
 "cells": [
  {
   "cell_type": "markdown",
   "metadata": {},
   "source": [
    "# Stores index fund data into a dataframe file\n"
   ]
  },
  {
   "cell_type": "markdown",
   "metadata": {},
   "source": [
    "## Imports & Settings"
   ]
  },
  {
   "cell_type": "code",
   "execution_count": 1,
   "metadata": {
    "pycharm": {
     "name": "#%%\n"
    }
   },
   "outputs": [],
   "source": [
    "import warnings\n",
    "warnings.filterwarnings('ignore')\n",
    "\n",
    "from pathlib import Path\n",
    "import pandas as pd\n",
    "\n",
    "pd.set_option('display.expand_frame_repr', False)"
   ]
  },
  {
   "cell_type": "markdown",
   "metadata": {},
   "source": [
    "## Set Data Store path and Get data"
   ]
  },
  {
   "cell_type": "code",
   "execution_count": 2,
   "metadata": {
    "pycharm": {
     "name": "#%%\n"
    }
   },
   "outputs": [],
   "source": [
    "DATA_STORE = Path('IndexAssets.h5')\n",
    "\n",
    "df = (pd.read_csv('IndexFundsData.csv'))"
   ]
  },
  {
   "cell_type": "code",
   "execution_count": 3,
   "metadata": {
    "pycharm": {
     "name": "#%%\n"
    }
   },
   "outputs": [
    {
     "name": "stdout",
     "output_type": "stream",
     "text": [
      "  Exchange Date      Close  CloseNDAQO  CloseDIA  CloseUSO  CloseGLD\n",
      "0     29-Jan-93  25.627352         NaN       NaN       NaN       NaN\n",
      "1      1-Feb-93  25.809629         NaN       NaN       NaN       NaN\n",
      "2      2-Feb-93  25.864317         NaN       NaN       NaN       NaN\n",
      "3      3-Feb-93  26.137712         NaN       NaN       NaN       NaN\n",
      "4      4-Feb-93  26.247089         NaN       NaN       NaN       NaN\n",
      "5      5-Feb-93  26.228834         NaN       NaN       NaN       NaN\n",
      "6      8-Feb-93  26.228834         NaN       NaN       NaN       NaN\n",
      "7      9-Feb-93  26.046581         NaN       NaN       NaN       NaN\n",
      "8     10-Feb-93  26.083036         NaN       NaN       NaN       NaN\n",
      "9     11-Feb-93  26.210608         NaN       NaN       NaN       NaN\n"
     ]
    }
   ],
   "source": [
    "print(df.head(10))#make sure we got the data"
   ]
  },
  {
   "cell_type": "markdown",
   "metadata": {
    "pycharm": {
     "name": "#%% md\n"
    }
   },
   "source": [
    "## Store data in the h5 file"
   ]
  },
  {
   "cell_type": "code",
   "execution_count": 4,
   "metadata": {
    "pycharm": {
     "name": "#%%\n"
    }
   },
   "outputs": [],
   "source": [
    "with pd.HDFStore(DATA_STORE) as store:\n",
    "    store.put('SAP', df)\n",
    "\n",
    "\n",
    "\n"
   ]
  }
 ],
 "metadata": {
  "kernelspec": {
   "display_name": "Python 3 (ipykernel)",
   "language": "python",
   "name": "python3"
  },
  "language_info": {
   "codemirror_mode": {
    "name": "ipython",
    "version": 3
   },
   "file_extension": ".py",
   "mimetype": "text/x-python",
   "name": "python",
   "nbconvert_exporter": "python",
   "pygments_lexer": "ipython3",
   "version": "3.9.7"
  },
  "toc": {
   "base_numbering": 1,
   "nav_menu": {},
   "number_sections": true,
   "sideBar": true,
   "skip_h1_title": true,
   "title_cell": "Table of Contents",
   "title_sidebar": "Contents",
   "toc_cell": false,
   "toc_position": {},
   "toc_section_display": true,
   "toc_window_display": true
  }
 },
 "nbformat": 4,
 "nbformat_minor": 4
}
