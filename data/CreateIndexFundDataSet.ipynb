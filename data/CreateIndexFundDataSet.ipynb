{
 "cells": [
  {
   "cell_type": "markdown",
   "source": [
    "# Stores index fund data into a dataframe file\n"
   ],
   "metadata": {
    "collapsed": false
   }
  },
  {
   "cell_type": "markdown",
   "source": [
    "## Imports & Settings"
   ],
   "metadata": {
    "collapsed": false
   }
  },
  {
   "cell_type": "code",
   "execution_count": 1,
   "outputs": [],
   "source": [
    "import warnings\n",
    "warnings.filterwarnings('ignore')\n",
    "\n",
    "from pathlib import Path\n",
    "\n",
    "import pandas as pd\n",
    "import numpy as np\n",
    "from sklearn.preprocessing import scale\n",
    "\n",
    "pd.set_option('display.expand_frame_repr', False)"
   ],
   "metadata": {
    "collapsed": false,
    "pycharm": {
     "name": "#%%\n"
    }
   }
  },
  {
   "cell_type": "markdown",
   "source": [
    "## Set Data Store path and Get data"
   ],
   "metadata": {
    "collapsed": false
   }
  },
  {
   "cell_type": "code",
   "execution_count": 10,
   "outputs": [],
   "source": [
    "DATA_STORE = Path('IndexAssets.h5')\n",
    "\n",
    "df = (pd.read_csv('IndexFundsData.csv'))"
   ],
   "metadata": {
    "collapsed": false,
    "pycharm": {
     "name": "#%%\n"
    }
   }
  },
  {
   "cell_type": "code",
   "execution_count": 11,
   "outputs": [
    {
     "name": "stdout",
     "output_type": "stream",
     "text": [
      "  Exchange Date   Close  CloseNDAQO  CloseDIA  CloseUSO  CloseGLD\n",
      "0     31-Dec-20  373.88      132.74    305.79     33.01    178.36\n",
      "1     30-Dec-20  371.99      130.14    304.13     32.91    177.70\n",
      "2     29-Dec-20  371.46      129.14    303.46     32.78    176.35\n",
      "3     28-Dec-20  372.17      128.85    304.00     32.59    175.71\n",
      "4     25-Dec-20     NaN         NaN       NaN       NaN       NaN\n",
      "5     24-Dec-20  369.00      128.62    302.02     32.92    176.35\n",
      "6     23-Dec-20  367.57      127.95    301.28     32.75    175.65\n",
      "7     22-Dec-20  367.24      129.90    300.07     32.09    174.49\n",
      "8     21-Dec-20  367.86      128.05    302.14     32.64    175.88\n",
      "9     18-Dec-20  369.18      128.60    301.90     33.48    176.44\n"
     ]
    }
   ],
   "source": [
    "print(df.head(10))#make sure we got the data"
   ],
   "metadata": {
    "collapsed": false,
    "pycharm": {
     "name": "#%%\n"
    }
   }
  },
  {
   "cell_type": "markdown",
   "source": [
    "## Store data in the h5 file"
   ],
   "metadata": {
    "collapsed": false,
    "pycharm": {
     "name": "#%% md\n"
    }
   }
  },
  {
   "cell_type": "code",
   "execution_count": 12,
   "outputs": [],
   "source": [
    "with pd.HDFStore(DATA_STORE) as store:\n",
    "    store.put('SAP', df)\n",
    "\n",
    "\n",
    "\n"
   ],
   "metadata": {
    "collapsed": false,
    "pycharm": {
     "name": "#%%\n"
    }
   }
  }
 ],
 "metadata": {
  "kernelspec": {
   "display_name": "Python 3",
   "language": "python",
   "name": "python3"
  },
  "language_info": {
   "codemirror_mode": {
    "name": "ipython",
    "version": 3
   },
   "file_extension": ".py",
   "mimetype": "text/x-python",
   "name": "python",
   "nbconvert_exporter": "python",
   "pygments_lexer": "ipython3",
   "version": "3.7.7"
  },
  "toc": {
   "base_numbering": 1,
   "nav_menu": {},
   "number_sections": true,
   "sideBar": true,
   "skip_h1_title": true,
   "title_cell": "Table of Contents",
   "title_sidebar": "Contents",
   "toc_cell": false,
   "toc_position": {},
   "toc_section_display": true,
   "toc_window_display": true
  }
 },
 "nbformat": 4,
 "nbformat_minor": 4
}