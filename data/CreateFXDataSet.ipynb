{
 "cells": [
  {
   "cell_type": "markdown",
   "source": [
    "# Stores index fund data into a dataframe file\n"
   ],
   "metadata": {
    "collapsed": false
   }
  },
  {
   "cell_type": "markdown",
   "source": [
    "## Imports & Settings"
   ],
   "metadata": {
    "collapsed": false
   }
  },
  {
   "cell_type": "code",
   "execution_count": 1,
   "outputs": [],
   "source": [
    "import warnings\n",
    "warnings.filterwarnings('ignore')\n",
    "\n",
    "from pathlib import Path\n",
    "import pandas as pd\n",
    "\n",
    "pd.set_option('display.expand_frame_repr', False)"
   ],
   "metadata": {
    "collapsed": false,
    "pycharm": {
     "name": "#%%\n"
    }
   }
  },
  {
   "cell_type": "markdown",
   "source": [
    "## Set Data Store path and Get data\n",
    "We gathered all the data from Refinitiv. We downloaded all the daily data we could for the GBPUSD, EURUSD, USDCHF, USDJPY, and NZDCAD.  Refinitiv has a tool which lets us download an excel file for each specific exchange.  We then isolated the close column from each data file and put it into our csv, and lined up all the dates.\n"
   ],
   "metadata": {
    "collapsed": false
   }
  },
  {
   "cell_type": "code",
   "execution_count": 4,
   "outputs": [],
   "source": [
    "DATA_STORE = Path('FXAssets.h5')\n",
    "\n",
    "df = (pd.read_csv('FXData.csv'))"
   ],
   "metadata": {
    "collapsed": false,
    "pycharm": {
     "name": "#%%\n"
    }
   }
  },
  {
   "cell_type": "code",
   "execution_count": 5,
   "outputs": [
    {
     "name": "stdout",
     "output_type": "stream",
     "text": [
      "  Exchange Date    Open  OpenEURUSD  OpenUSDCHF  OpenUSDJPY  OpenNZDCAD\n",
      "0     31-Dec-21  1.3494      1.1322      0.9134      115.06      0.8698\n",
      "1     30-Dec-21  1.3486      1.1347      0.9146      114.95      0.8734\n",
      "2     29-Dec-21  1.3434      1.1309      0.9171      114.80      0.8730\n",
      "3     28-Dec-21  1.3440      1.1327      0.9174      114.85      0.8701\n",
      "4     27-Dec-21  1.3385      1.1316      0.9189      114.38      0.8732\n",
      "5     24-Dec-21  1.3408      1.1328      0.9186      114.36      0.8742\n",
      "6     23-Dec-21  1.3352      1.1323      0.9202      114.08      0.8735\n",
      "7     22-Dec-21  1.3260      1.1277      0.9237      114.10      0.8734\n",
      "8     21-Dec-21  1.3205      1.1275      0.9209      113.58      0.8685\n",
      "9     20-Dec-21  1.3244      1.1240      0.9241      113.62      0.8685\n"
     ]
    }
   ],
   "source": [
    "print(df.head(10))#make sure we got the data"
   ],
   "metadata": {
    "collapsed": false,
    "pycharm": {
     "name": "#%%\n"
    }
   }
  },
  {
   "cell_type": "markdown",
   "source": [
    "## Store data in the h5 file"
   ],
   "metadata": {
    "collapsed": false,
    "pycharm": {
     "name": "#%% md\n"
    }
   }
  },
  {
   "cell_type": "code",
   "execution_count": 6,
   "outputs": [],
   "source": [
    "with pd.HDFStore(DATA_STORE) as store:\n",
    "    store.put('FX', df)\n",
    "\n",
    "\n",
    "\n"
   ],
   "metadata": {
    "collapsed": false,
    "pycharm": {
     "name": "#%%\n"
    }
   }
  }
 ],
 "metadata": {
  "kernelspec": {
   "display_name": "Python 3",
   "language": "python",
   "name": "python3"
  },
  "language_info": {
   "codemirror_mode": {
    "name": "ipython",
    "version": 3
   },
   "file_extension": ".py",
   "mimetype": "text/x-python",
   "name": "python",
   "nbconvert_exporter": "python",
   "pygments_lexer": "ipython3",
   "version": "3.7.7"
  },
  "toc": {
   "base_numbering": 1,
   "nav_menu": {},
   "number_sections": true,
   "sideBar": true,
   "skip_h1_title": true,
   "title_cell": "Table of Contents",
   "title_sidebar": "Contents",
   "toc_cell": false,
   "toc_position": {},
   "toc_section_display": true,
   "toc_window_display": true
  }
 },
 "nbformat": 4,
 "nbformat_minor": 4
}
