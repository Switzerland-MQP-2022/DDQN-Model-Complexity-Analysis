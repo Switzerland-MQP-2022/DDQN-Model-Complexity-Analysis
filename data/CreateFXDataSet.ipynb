{
 "cells": [
  {
   "cell_type": "markdown",
   "source": [
    "# Stores index fund data into a dataframe file\n"
   ],
   "metadata": {
    "collapsed": false
   }
  },
  {
   "cell_type": "markdown",
   "source": [
    "## Imports & Settings"
   ],
   "metadata": {
    "collapsed": false
   }
  },
  {
   "cell_type": "code",
   "execution_count": 1,
   "outputs": [],
   "source": [
    "import warnings\n",
    "warnings.filterwarnings('ignore')\n",
    "\n",
    "from pathlib import Path\n",
    "import pandas as pd\n",
    "\n",
    "pd.set_option('display.expand_frame_repr', False)"
   ],
   "metadata": {
    "collapsed": false,
    "pycharm": {
     "name": "#%%\n"
    }
   }
  },
  {
   "cell_type": "markdown",
   "source": [
    "## Set Data Store path and Get data\n",
    "We gathered all the data from Refinitiv. We downloaded all the daily data we could for the GBPUSD, EURUSD, USDCHF, USDJPY, and NZDCAD.  Refinitiv has a tool which lets us download an excel file for each specific exchange.  We then isolated the close column from each data file and put it into our csv, and lined up all the dates.\n"
   ],
   "metadata": {
    "collapsed": false
   }
  },
  {
   "cell_type": "code",
   "execution_count": 2,
   "outputs": [],
   "source": [
    "DATA_STORE = Path('FXAssets.h5')\n",
    "\n",
    "df = (pd.read_csv('FXData.csv'))"
   ],
   "metadata": {
    "collapsed": false,
    "pycharm": {
     "name": "#%%\n"
    }
   }
  },
  {
   "cell_type": "code",
   "execution_count": 3,
   "outputs": [
    {
     "name": "stdout",
     "output_type": "stream",
     "text": [
      "  Exchange Date    Open  OpenEURUSD  OpenUSDCHF  OpenUSDJPY  OpenNZDCAD\n",
      "0      7-Feb-02  1.4117      0.8676      1.6953      133.57      0.6687\n",
      "1      8-Feb-02  1.4130      0.8700      1.6913      133.70      0.6656\n",
      "2     11-Feb-02  1.4127      0.8702      1.6928      134.90      0.6684\n",
      "3     12-Feb-02  1.4216      0.8766      1.6840      133.30      0.6677\n",
      "4     13-Feb-02  1.4342      0.8771      1.6865      132.57      0.6642\n",
      "5     14-Feb-02  1.4279      0.8709      1.6999      133.36      0.6635\n",
      "6     15-Feb-02  1.4305      0.8739      1.6968      132.08      0.6701\n",
      "7     18-Feb-02  1.4313      0.8730      1.6976      132.80      0.6698\n",
      "8     19-Feb-02  1.4281      0.8704      1.6993      132.69      0.6713\n",
      "9     20-Feb-02  1.4318      0.8767      1.6868      133.56      0.6693\n"
     ]
    }
   ],
   "source": [
    "print(df.head(10))#make sure we got the data"
   ],
   "metadata": {
    "collapsed": false,
    "pycharm": {
     "name": "#%%\n"
    }
   }
  },
  {
   "cell_type": "markdown",
   "source": [
    "## Store data in the h5 file"
   ],
   "metadata": {
    "collapsed": false,
    "pycharm": {
     "name": "#%% md\n"
    }
   }
  },
  {
   "cell_type": "code",
   "execution_count": 4,
   "outputs": [],
   "source": [
    "with pd.HDFStore(DATA_STORE) as store:\n",
    "    store.put('FX', df)\n",
    "\n",
    "\n",
    "\n"
   ],
   "metadata": {
    "collapsed": false,
    "pycharm": {
     "name": "#%%\n"
    }
   }
  }
 ],
 "metadata": {
  "kernelspec": {
   "display_name": "Python 3",
   "language": "python",
   "name": "python3"
  },
  "language_info": {
   "codemirror_mode": {
    "name": "ipython",
    "version": 3
   },
   "file_extension": ".py",
   "mimetype": "text/x-python",
   "name": "python",
   "nbconvert_exporter": "python",
   "pygments_lexer": "ipython3",
   "version": "3.7.7"
  },
  "toc": {
   "base_numbering": 1,
   "nav_menu": {},
   "number_sections": true,
   "sideBar": true,
   "skip_h1_title": true,
   "title_cell": "Table of Contents",
   "title_sidebar": "Contents",
   "toc_cell": false,
   "toc_position": {},
   "toc_section_display": true,
   "toc_window_display": true
  }
 },
 "nbformat": 4,
 "nbformat_minor": 4
}