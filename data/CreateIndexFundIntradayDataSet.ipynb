{
 "cells": [
  {
   "cell_type": "markdown",
   "source": [
    "# Stores index fund data into a dataframe file\n"
   ],
   "metadata": {
    "collapsed": false
   }
  },
  {
   "cell_type": "markdown",
   "source": [
    "## Imports & Settings"
   ],
   "metadata": {
    "collapsed": false
   }
  },
  {
   "cell_type": "code",
   "execution_count": 6,
   "outputs": [],
   "source": [
    "import warnings\n",
    "warnings.filterwarnings('ignore')\n",
    "\n",
    "from pathlib import Path\n",
    "import pandas as pd\n",
    "\n",
    "pd.set_option('display.expand_frame_repr', False)"
   ],
   "metadata": {
    "collapsed": false,
    "pycharm": {
     "name": "#%%\n"
    }
   }
  },
  {
   "cell_type": "markdown",
   "source": [
    "## Set Data Store path and Get data\n",
    "We gathered all the data from Refinitiv. We downloaded all the data we could, in 5 minute intervals, for the SPY, NDAQ.O, DIA, USO, GLD.  Refinitiv has a tool which lets us download an excel file for each specific index fund.  We then isolated the close column from each data file and put it into our csv, and lined up all the times so the prices were aligned.\n"
   ],
   "metadata": {
    "collapsed": false
   }
  },
  {
   "cell_type": "code",
   "execution_count": 7,
   "outputs": [],
   "source": [
    "DATA_STORE = Path('IndexIntradayAssets.h5')\n",
    "\n",
    "df = (pd.read_csv('IndexFundsDataIntraday.csv'))"
   ],
   "metadata": {
    "collapsed": false,
    "pycharm": {
     "name": "#%%\n"
    }
   }
  },
  {
   "cell_type": "code",
   "execution_count": 8,
   "outputs": [
    {
     "name": "stdout",
     "output_type": "stream",
     "text": [
      "  Exchange Date  Close  CloseNDAQO  CloseDIA  CloseUSO  CloseGLD\n",
      "0      2-Jan-03  91.07       10.25     86.18       NaN       NaN\n",
      "1      3-Jan-03  91.35       10.25     86.36       NaN       NaN\n",
      "2      6-Jan-03  92.96       10.40     87.67       NaN       NaN\n",
      "3      7-Jan-03  92.73       10.30     87.72       NaN       NaN\n",
      "4      8-Jan-03  91.39       10.20     86.17       NaN       NaN\n",
      "5      9-Jan-03  92.81        9.50     87.78       NaN       NaN\n",
      "6     10-Jan-03  93.06        9.25     87.99       NaN       NaN\n",
      "7     13-Jan-03  93.03       10.01     88.09       NaN       NaN\n",
      "8     14-Jan-03  93.33        9.20     88.44       NaN       NaN\n",
      "9     15-Jan-03  92.40        9.80     87.68       NaN       NaN\n"
     ]
    }
   ],
   "source": [
    "print(df.head(10))#make sure we got the data"
   ],
   "metadata": {
    "collapsed": false,
    "pycharm": {
     "name": "#%%\n"
    }
   }
  },
  {
   "cell_type": "markdown",
   "source": [
    "## Store data in the h5 file"
   ],
   "metadata": {
    "collapsed": false,
    "pycharm": {
     "name": "#%% md\n"
    }
   }
  },
  {
   "cell_type": "code",
   "execution_count": 9,
   "outputs": [],
   "source": [
    "with pd.HDFStore(DATA_STORE) as store:\n",
    "    store.put('SAP', df)\n",
    "\n",
    "\n",
    "\n"
   ],
   "metadata": {
    "collapsed": false,
    "pycharm": {
     "name": "#%%\n"
    }
   }
  }
 ],
 "metadata": {
  "kernelspec": {
   "display_name": "Python 3",
   "language": "python",
   "name": "python3"
  },
  "language_info": {
   "codemirror_mode": {
    "name": "ipython",
    "version": 3
   },
   "file_extension": ".py",
   "mimetype": "text/x-python",
   "name": "python",
   "nbconvert_exporter": "python",
   "pygments_lexer": "ipython3",
   "version": "3.7.7"
  },
  "toc": {
   "base_numbering": 1,
   "nav_menu": {},
   "number_sections": true,
   "sideBar": true,
   "skip_h1_title": true,
   "title_cell": "Table of Contents",
   "title_sidebar": "Contents",
   "toc_cell": false,
   "toc_position": {},
   "toc_section_display": true,
   "toc_window_display": true
  }
 },
 "nbformat": 4,
 "nbformat_minor": 4
}
