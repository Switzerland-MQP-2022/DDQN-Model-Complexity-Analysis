{
 "cells": [
  {
   "cell_type": "markdown",
   "source": [
    "# Stores index fund data into a dataframe file\n"
   ],
   "metadata": {
    "collapsed": false
   }
  },
  {
   "cell_type": "markdown",
   "source": [
    "## Imports & Settings"
   ],
   "metadata": {
    "collapsed": false
   }
  },
  {
   "cell_type": "code",
   "execution_count": 1,
   "outputs": [],
   "source": [
    "import warnings\n",
    "warnings.filterwarnings('ignore')\n",
    "\n",
    "from pathlib import Path\n",
    "import pandas as pd\n",
    "\n",
    "pd.set_option('display.expand_frame_repr', False)"
   ],
   "metadata": {
    "collapsed": false,
    "pycharm": {
     "name": "#%%\n"
    }
   }
  },
  {
   "cell_type": "markdown",
   "source": [
    "## Set Data Store path and Get data\n",
    "We gathered all the data from Refinitiv. We downloaded all the data we could, in 5 minute intervals, for the SPY, NDAQ.O, DIA, USO, GLD.  Refinitiv has a tool which lets us download an excel file for each specific index fund.  We then isolated the close column from each data file and put it into our csv, and lined up all the times so the prices were aligned.\n"
   ],
   "metadata": {
    "collapsed": false
   }
  },
  {
   "cell_type": "code",
   "execution_count": 2,
   "outputs": [],
   "source": [
    "DATA_STORE = Path('IndexIntradayAssets.h5')\n",
    "\n",
    "df = (pd.read_csv('IndexFundsDataIntraday.csv'))"
   ],
   "metadata": {
    "collapsed": false,
    "pycharm": {
     "name": "#%%\n"
    }
   }
  },
  {
   "cell_type": "code",
   "execution_count": 3,
   "outputs": [
    {
     "name": "stdout",
     "output_type": "stream",
     "text": [
      "             Time   Close  CloseNDAQO  CloseDIA  CloseUSO  CloseGLD\n",
      "0  11/24/21 11:25  467.28      464.49    465.78    465.90    461.49\n",
      "1  11/24/21 11:30  467.18      464.49    465.63    466.05    461.70\n",
      "2  11/24/21 11:35  467.21      464.49    465.51    466.17    461.32\n",
      "3  11/24/21 11:40  467.03      464.49    465.56    465.64    461.23\n",
      "4  11/24/21 11:45  467.09      465.23    466.26    465.79    461.50\n",
      "5  11/24/21 11:50  466.73      465.33    467.06    466.04    461.63\n",
      "6  11/24/21 11:55  466.73      465.33    466.51    466.04    461.67\n",
      "7  11/24/21 12:00  466.43      465.33    466.53    466.01    462.04\n",
      "8  11/24/21 12:05  466.39      465.66    466.54    466.24    462.00\n",
      "9  11/24/21 12:10  466.42      465.66    466.97    466.24    461.94\n"
     ]
    }
   ],
   "source": [
    "print(df.head(10))#make sure we got the data"
   ],
   "metadata": {
    "collapsed": false,
    "pycharm": {
     "name": "#%%\n"
    }
   }
  },
  {
   "cell_type": "markdown",
   "source": [
    "## Store data in the h5 file"
   ],
   "metadata": {
    "collapsed": false,
    "pycharm": {
     "name": "#%% md\n"
    }
   }
  },
  {
   "cell_type": "code",
   "execution_count": 4,
   "outputs": [],
   "source": [
    "with pd.HDFStore(DATA_STORE) as store:\n",
    "    store.put('SAP', df)\n",
    "\n",
    "\n",
    "\n"
   ],
   "metadata": {
    "collapsed": false,
    "pycharm": {
     "name": "#%%\n"
    }
   }
  }
 ],
 "metadata": {
  "kernelspec": {
   "display_name": "Python 3",
   "language": "python",
   "name": "python3"
  },
  "language_info": {
   "codemirror_mode": {
    "name": "ipython",
    "version": 3
   },
   "file_extension": ".py",
   "mimetype": "text/x-python",
   "name": "python",
   "nbconvert_exporter": "python",
   "pygments_lexer": "ipython3",
   "version": "3.7.7"
  },
  "toc": {
   "base_numbering": 1,
   "nav_menu": {},
   "number_sections": true,
   "sideBar": true,
   "skip_h1_title": true,
   "title_cell": "Table of Contents",
   "title_sidebar": "Contents",
   "toc_cell": false,
   "toc_position": {},
   "toc_section_display": true,
   "toc_window_display": true
  }
 },
 "nbformat": 4,
 "nbformat_minor": 4
}