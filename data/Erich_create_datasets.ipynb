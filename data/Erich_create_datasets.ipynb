{
 "cells": [
  {
   "cell_type": "markdown",
   "source": [
    "# Stores data & retrieves it, just for proof of concept\n",
    "\n",
    "# <mark>Depreciated, use CreateIndexFundDataSet.ipynb</mark>"
   ],
   "metadata": {
    "collapsed": false
   }
  },
  {
   "cell_type": "markdown",
   "source": [
    "## Imports & Settings"
   ],
   "metadata": {
    "collapsed": false
   }
  },
  {
   "cell_type": "code",
   "execution_count": 1,
   "outputs": [],
   "source": [
    "#!!!!!!!!!!!!\n",
    "# TODO Depreciated, use CreateIndexFundDataSet.ipynb\n",
    "\n",
    "import warnings\n",
    "warnings.filterwarnings('ignore')\n",
    "\n",
    "from pathlib import Path\n",
    "\n",
    "import pandas as pd\n",
    "\n",
    "pd.set_option('display.expand_frame_repr', False)"
   ],
   "metadata": {
    "collapsed": false,
    "pycharm": {
     "name": "#%%\n"
    }
   }
  },
  {
   "cell_type": "markdown",
   "source": [
    "## Set Data Store path and Get data"
   ],
   "metadata": {
    "collapsed": false
   }
  },
  {
   "cell_type": "code",
   "execution_count": 2,
   "outputs": [],
   "source": [
    "DATA_STORE = Path('SPYAssets.h5')\n",
    "\n",
    "df = (pd.read_csv('SPY_2005_to_2020.csv'))\n",
    "\n",
    "df = df.dropna()"
   ],
   "metadata": {
    "collapsed": false,
    "pycharm": {
     "name": "#%%\n"
    }
   }
  },
  {
   "cell_type": "code",
   "execution_count": 3,
   "outputs": [
    {
     "name": "stdout",
     "output_type": "stream",
     "text": [
      "   Exchange Date   Close   Net  PerChg    Open     Low    High       Volume        TurnoverUSD\n",
      "0      31-Dec-20  373.88  1.89   0.51%  371.78  371.23  374.66   78,520,702  29,303,951,480.74\n",
      "1      30-Dec-20  371.99  0.53   0.14%  372.34  371.57  373.10   49,455,259  18,401,923,313.24\n",
      "2      29-Dec-20  371.46 -0.71  -0.19%  373.81  370.83  374.00   53,680,451  19,963,585,529.15\n",
      "3      28-Dec-20  372.17  3.17   0.86%  371.74  371.07  372.59   39,000,402  14,497,792,684.16\n",
      "5      24-Dec-20  369.00  1.43   0.39%  368.08  367.45  369.03   26,457,853   9,746,909,427.09\n",
      "6      23-Dec-20  367.57  0.33   0.09%  368.28  367.22  369.62   46,201,402  17,019,506,403.34\n",
      "7      22-Dec-20  367.24 -0.62  -0.17%  368.21  366.03  368.33   48,388,462  17,780,279,644.51\n",
      "8      21-Dec-20  367.86 -1.32  -0.36%  364.97  362.03  378.46   96,386,745  35,308,074,094.80\n",
      "9      18-Dec-20  369.18 -3.06  -0.82%  370.97  367.02  371.15  136,542,328  50,445,569,765.56\n",
      "10     17-Dec-20  372.24  2.07   0.56%  371.94  371.05  372.46   64,119,472  23,826,054,741.59\n"
     ]
    }
   ],
   "source": [
    "print(df.head(10))#make sure we got the data"
   ],
   "metadata": {
    "collapsed": false,
    "pycharm": {
     "name": "#%%\n"
    }
   }
  },
  {
   "cell_type": "markdown",
   "source": [
    "## Store data in the h5 file"
   ],
   "metadata": {
    "collapsed": false,
    "pycharm": {
     "name": "#%% md\n"
    }
   }
  },
  {
   "cell_type": "code",
   "execution_count": 4,
   "outputs": [],
   "source": [
    "with pd.HDFStore(DATA_STORE) as store:\n",
    "    store.put('SAP', df)\n"
   ],
   "metadata": {
    "collapsed": false,
    "pycharm": {
     "name": "#%%\n"
    }
   }
  },
  {
   "cell_type": "markdown",
   "source": [
    "## Retrieve data"
   ],
   "metadata": {
    "collapsed": false,
    "pycharm": {
     "name": "#%% md\n"
    }
   }
  },
  {
   "cell_type": "code",
   "execution_count": 6,
   "outputs": [],
   "source": [
    "with pd.HDFStore('SPYAssets.h5') as store:\n",
    "    RetDf = (store['SAP'])\n",
    "#Set new column names *** make sure there are no special characters in it or else the df will break(I think)\n",
    "RetDf.columns = ['Date', 'Close', 'Net', 'Chg', 'Open', 'Low', 'High', 'Volume', 'Turnover']\n",
    "\n",
    "\n",
    "\n",
    "\n"
   ],
   "metadata": {
    "collapsed": false,
    "pycharm": {
     "name": "#%%\n"
    }
   }
  }
 ],
 "metadata": {
  "kernelspec": {
   "display_name": "Python 3",
   "language": "python",
   "name": "python3"
  },
  "language_info": {
   "codemirror_mode": {
    "name": "ipython",
    "version": 3
   },
   "file_extension": ".py",
   "mimetype": "text/x-python",
   "name": "python",
   "nbconvert_exporter": "python",
   "pygments_lexer": "ipython3",
   "version": "3.7.7"
  },
  "toc": {
   "base_numbering": 1,
   "nav_menu": {},
   "number_sections": true,
   "sideBar": true,
   "skip_h1_title": true,
   "title_cell": "Table of Contents",
   "title_sidebar": "Contents",
   "toc_cell": false,
   "toc_position": {},
   "toc_section_display": true,
   "toc_window_display": true
  }
 },
 "nbformat": 4,
 "nbformat_minor": 4
}