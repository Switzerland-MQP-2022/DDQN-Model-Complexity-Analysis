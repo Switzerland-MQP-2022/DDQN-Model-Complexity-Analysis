{
 "cells": [
  {
   "cell_type": "markdown",
   "source": [
    "# Stores data & retrieves it, just for proof of concept\n"
   ],
   "metadata": {
    "collapsed": false
   }
  },
  {
   "cell_type": "markdown",
   "source": [
    "## Imports & Settings"
   ],
   "metadata": {
    "collapsed": false
   }
  },
  {
   "cell_type": "code",
   "execution_count": 1,
   "outputs": [],
   "source": [
    "import warnings\n",
    "warnings.filterwarnings('ignore')\n",
    "\n",
    "from pathlib import Path\n",
    "\n",
    "import pandas as pd\n",
    "\n",
    "pd.set_option('display.expand_frame_repr', False)"
   ],
   "metadata": {
    "collapsed": false,
    "pycharm": {
     "name": "#%%\n"
    }
   }
  },
  {
   "cell_type": "markdown",
   "source": [
    "## Set Data Store path and Get data"
   ],
   "metadata": {
    "collapsed": false
   }
  },
  {
   "cell_type": "code",
   "execution_count": 2,
   "outputs": [],
   "source": [
    "DATA_STORE = Path('efsassets.h5')\n",
    "\n",
    "df = (pd.read_csv('SAPData.csv'))"
   ],
   "metadata": {
    "collapsed": false,
    "pycharm": {
     "name": "#%%\n"
    }
   }
  },
  {
   "cell_type": "code",
   "execution_count": 3,
   "outputs": [
    {
     "name": "stdout",
     "output_type": "stream",
     "text": [
      "  Exchange Date     Close    Net     Chg      Open       Low      High  Volume\n",
      "0     31-Dec-20  3,756.07  24.03   0.64%  3,733.27  3,726.88  3,760.20     NaN\n",
      "1     30-Dec-20  3,732.04   5.00   0.13%  3,736.19  3,730.21  3,744.63     NaN\n",
      "2     29-Dec-20  3,727.04  -8.32  -0.22%  3,750.01  3,723.31  3,756.12     NaN\n",
      "3     28-Dec-20  3,735.36  32.30   0.87%  3,723.03  3,723.03  3,740.51     NaN\n",
      "4     24-Dec-20  3,703.06  13.05   0.35%  3,694.03  3,689.32  3,703.82     NaN\n",
      "5     23-Dec-20  3,690.01   2.75   0.07%  3,693.42  3,689.28  3,711.24     NaN\n",
      "6     22-Dec-20  3,687.26  -7.66  -0.21%  3,698.08  3,676.16  3,698.26     NaN\n",
      "7     21-Dec-20  3,694.92 -14.49  -0.39%  3,684.28  3,636.48  3,702.90     NaN\n",
      "8     18-Dec-20  3,709.41 -13.07  -0.35%  3,722.39  3,685.84  3,726.70     NaN\n",
      "9     17-Dec-20  3,722.48  21.31   0.58%  3,713.65  3,710.87  3,725.12     NaN\n"
     ]
    }
   ],
   "source": [
    "print(df.head(10))#make sure we got the data"
   ],
   "metadata": {
    "collapsed": false,
    "pycharm": {
     "name": "#%%\n"
    }
   }
  },
  {
   "cell_type": "markdown",
   "source": [
    "## Store data in the h5 file"
   ],
   "metadata": {
    "collapsed": false,
    "pycharm": {
     "name": "#%% md\n"
    }
   }
  },
  {
   "cell_type": "code",
   "execution_count": 4,
   "outputs": [],
   "source": [
    "with pd.HDFStore(DATA_STORE) as store:\n",
    "    store.put('SAP', df)\n"
   ],
   "metadata": {
    "collapsed": false,
    "pycharm": {
     "name": "#%%\n"
    }
   }
  },
  {
   "cell_type": "markdown",
   "source": [
    "## Retrieve data"
   ],
   "metadata": {
    "collapsed": false,
    "pycharm": {
     "name": "#%% md\n"
    }
   }
  },
  {
   "cell_type": "code",
   "execution_count": 5,
   "outputs": [],
   "source": [
    "with pd.HDFStore('efsassets.h5') as store:\n",
    "    RetDf = (store['SAP'])\n",
    "#Set new column names *** make sure there are no special characters in it or else the df will break(I think)\n",
    "RetDf.columns = ['NewColName', 'Close', 'Net', 'Chg', 'Open', 'Low', 'High', 'Volume']\n",
    "\n",
    "\n",
    "\n",
    "\n",
    "\n"
   ],
   "metadata": {
    "collapsed": false,
    "pycharm": {
     "name": "#%%\n"
    }
   }
  }
 ],
 "metadata": {
  "kernelspec": {
   "display_name": "Python 3",
   "language": "python",
   "name": "python3"
  },
  "language_info": {
   "codemirror_mode": {
    "name": "ipython",
    "version": 3
   },
   "file_extension": ".py",
   "mimetype": "text/x-python",
   "name": "python",
   "nbconvert_exporter": "python",
   "pygments_lexer": "ipython3",
   "version": "3.7.7"
  },
  "toc": {
   "base_numbering": 1,
   "nav_menu": {},
   "number_sections": true,
   "sideBar": true,
   "skip_h1_title": true,
   "title_cell": "Table of Contents",
   "title_sidebar": "Contents",
   "toc_cell": false,
   "toc_position": {},
   "toc_section_display": true,
   "toc_window_display": true
  }
 },
 "nbformat": 4,
 "nbformat_minor": 4
}